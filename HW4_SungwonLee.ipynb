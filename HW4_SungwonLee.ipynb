{
  "cells": [
    {
      "cell_type": "markdown",
      "metadata": {
        "id": "uRfi_A6L-ZN_"
      },
      "source": [
        "# HW4: Graph Neural Networks\n",
        "\n",
        "* There are two datasets in the `data` folder: `train.pt`, `test.pt`. You will train a GCNN on the train dataset, then make predictions on the test dataset.\n",
        "* There are two parts in this notebook. `Part I` gives a custom `Dataset` object and loads the datasets. The `QM_Dataset` object inherites from torch geometric `Dataset` object. `Part II` is an example solution.\n",
        "* This HW is implemented with [Pytorch Geometric (PyG)](https://pytorch-geometric.readthedocs.io/en/latest/index.html). Another popular library for implementing GNNs is [Deep Graph Library (DGL)](https://www.dgl.ai/)"
      ]
    },
    {
      "cell_type": "code",
      "execution_count": null,
      "metadata": {
        "colab": {
          "base_uri": "https://localhost:8080/"
        },
        "id": "71pd8cli6mmR",
        "outputId": "2a26b002-f76c-490d-c242-ec9e476510fe"
      },
      "outputs": [],
      "source": [
        "!pip install torch_geometric"
      ]
    },
    {
      "cell_type": "code",
      "execution_count": 2,
      "metadata": {
        "id": "6z5zXzc2-ZOD"
      },
      "outputs": [],
      "source": [
        "import pandas as pd\n",
        "import torch\n",
        "import torch.nn.functional as F\n",
        "from torch.nn import Linear, ReLU, Sequential\n",
        "from torch_geometric.data import Dataset\n",
        "from torch_geometric.loader import DataLoader\n",
        "from sklearn.metrics import mean_absolute_error\n",
        "import torch_geometric.nn as pyg_nn\n",
        "from torch_geometric.nn import TransformerConv"
      ]
    },
    {
      "cell_type": "code",
      "execution_count": 3,
      "metadata": {
        "colab": {
          "base_uri": "https://localhost:8080/"
        },
        "id": "KlnhZwRa6iZP",
        "outputId": "504ea5fa-79ab-47dc-b806-562443db9395"
      },
      "outputs": [
        {
          "name": "stdout",
          "output_type": "stream",
          "text": [
            "Drive already mounted at /content/drive; to attempt to forcibly remount, call drive.mount(\"/content/drive\", force_remount=True).\n"
          ]
        }
      ],
      "source": [
        "# only on google colab\n",
        "\n",
        "from google.colab import drive\n",
        "drive.mount('/content/drive')"
      ]
    },
    {
      "cell_type": "markdown",
      "metadata": {
        "id": "JrdqqRyp-ZOE"
      },
      "source": [
        "## Part I. The training and testing dataset are provided\n",
        "\n",
        "- The train and test datasets were pre-processed graphs. The train dataset contains 20,000 graphs, while the test dataset contains 2,000 graphs.\n",
        "- Each graph contains the following components:\n",
        "\n",
        "    - `x`, the matrix containing node features, `[num_of_nodes, num_node_features=11]`\n",
        "    - `edge_index`, the matrix containing connection information about different nodes, `[2, num_of_edges]`\n",
        "    - `y`, the label for the graph, `scaler`. The value is set to `0` in the test dataset\n",
        "    - `pos`, the matrix containing the node positions, `[num_of_nodes, 3]`\n",
        "    - `edge_attr`, the matrix containing the edge information, `[num_edges, 4]`\n",
        "    - `names`, index for the graph. For example, `gdb_59377`\n",
        "\n",
        "- Depending on the graph convolutional layer that is used, different components are needed. For the most basic application, `x`, `edge_index` and `y` will be used.\n"
      ]
    },
    {
      "cell_type": "code",
      "execution_count": 4,
      "metadata": {
        "id": "4uVaHtpZ8nwV"
      },
      "outputs": [],
      "source": [
        "class QM_Dataset(Dataset):\n",
        "    def __init__(self, path):\n",
        "        super().__init__(root=\".\")\n",
        "        self.data = torch.load(path)\n",
        "\n",
        "    def len(self):\n",
        "        return len(self.data)\n",
        "\n",
        "    def get(self, idx):\n",
        "        return self.data[idx]\n",
        "\n",
        "train_path = \"/content/drive/MyDrive/Colab Notebooks/train_path\"\n",
        "test_path = \"/content/drive/MyDrive/Colab Notebooks/test_path\"\n",
        "\n",
        "train_data_ = QM_Dataset(train_path)\n",
        "\n",
        "# train dataset can be split for validation purposes\n",
        "train_data, validate_data = torch.utils.data.random_split(train_data_, [19000, 1000])\n",
        "test_data = QM_Dataset(test_path)"
      ]
    },
    {
      "cell_type": "markdown",
      "metadata": {
        "id": "PMYYRRR0-ZOG"
      },
      "source": [
        "## Part II. Example solution"
      ]
    },
    {
      "cell_type": "code",
      "execution_count": 5,
      "metadata": {
        "id": "IMZVJsa88Y8p"
      },
      "outputs": [],
      "source": [
        "# define the network\n",
        "# many convolutional layers are available in torch_geometric.nn\n",
        "# here NNConv is just used as an example\n",
        "\n",
        "from torch_geometric.nn import NNConv, Set2Set, GCNConv, SGConv, TAGConv\n",
        "\n",
        "class Net(torch.nn.Module):\n",
        "    def __init__(self, num_features=11, dim=64):\n",
        "        super().__init__()\n",
        "        self.lin0 = torch.nn.Linear(num_features, dim)\n",
        "        nn = Sequential(Linear(4, 128), ReLU(), Linear(128, dim))\n",
        "        self.conv = TAGConv(dim, dim, K = 6)      # replace with your own convolutional layers here\n",
        "        self.set2set = Set2Set(dim, processing_steps=3)    # set2set is used to map from nodes to graphs\n",
        "        self.lin1 = torch.nn.Linear(2 * dim, dim)\n",
        "        self.lin2 = torch.nn.Linear(dim, 1)\n",
        "\n",
        "    def forward(self, data):\n",
        "        out = F.relu(self.lin0(data.x))                    #data.x size [batch_num_nodes, num_node_features]\n",
        "        for _ in range(3):\n",
        "            out = F.relu(self.conv(out, data.edge_index))\n",
        "        out = self.set2set(out, data.batch)                #[batch_num_nodes, dim] ==> [batch_num_graphs, dim*2]\n",
        "        out = F.relu(self.lin1(out))\n",
        "        out = self.lin2(out)\n",
        "        return out.view(-1)"
      ]
    },
    {
      "cell_type": "code",
      "execution_count": 6,
      "metadata": {
        "id": "eumyKXt1-ZOH"
      },
      "outputs": [],
      "source": [
        "# define training and evaluation functions\n",
        "def train(model, loader, optimizer, criterion, device):\n",
        "    \"\"\"Takes in training dataset loader,\n",
        "    train the model one step,\n",
        "    update the parameters,\n",
        "    return the current loss\"\"\"\n",
        "    model.train()\n",
        "    total_loss = 0\n",
        "    for data in loader:\n",
        "      data = data.to(device)\n",
        "      optimizer.zero_grad()       # Reset gradients\n",
        "      output = model(data)        # Forward pass\n",
        "      loss = criterion(output, data.y.to(device))  # Compute the loss\n",
        "      loss.backward()             # Backpropagate the gradients\n",
        "      optimizer.step()            # Update the weights\n",
        "      total_loss += loss.item() * data.num_graphs  # Update total loss\n",
        "    return total_loss / len(loader.dataset)\n",
        "\n",
        "def eval(model, loader, criterion, device):\n",
        "    \"\"\"Takes the validation dataset loader,\n",
        "    return the validation MAE\"\"\"\n",
        "    model.eval()\n",
        "    total_loss = 0\n",
        "    with torch.no_grad():\n",
        "        for data in loader:\n",
        "          data = data.to(device)\n",
        "          output = model(data)\n",
        "          loss = criterion(output, data.y.to(device))\n",
        "          total_loss += loss.item() * data.num_graphs\n",
        "    return total_loss / len(loader.dataset)"
      ]
    },
    {
      "cell_type": "code",
      "execution_count": 7,
      "metadata": {
        "id": "29AeJ7Q6-ZOI"
      },
      "outputs": [],
      "source": [
        "# load the datasets\n",
        "train_loader = DataLoader(train_data, batch_size=128)\n",
        "validate_loader = DataLoader(validate_data, batch_size=128)\n",
        "test_loader = DataLoader(test_data, batch_size=8)\n",
        "\n",
        "device = torch.device(\"cuda:0\" if torch.cuda.is_available() else \"cpu\")\n",
        "model = Net(num_features=11, dim=64).to(device)\n",
        "optimizer = torch.optim.Adamax(model.parameters(), lr=0.005)\n",
        "criterion = torch.nn.L1Loss()"
      ]
    },
    {
      "cell_type": "code",
      "execution_count": 8,
      "metadata": {
        "colab": {
          "base_uri": "https://localhost:8080/"
        },
        "id": "uF38HtRBD89Q",
        "outputId": "d0639e3b-d891-4135-d03d-cb1232b8d166"
      },
      "outputs": [
        {
          "name": "stdout",
          "output_type": "stream",
          "text": [
            "cuda:0\n"
          ]
        }
      ],
      "source": [
        "print(device)"
      ]
    },
    {
      "cell_type": "code",
      "execution_count": null,
      "metadata": {
        "colab": {
          "base_uri": "https://localhost:8080/"
        },
        "id": "kyAA9GLE-ZOJ",
        "outputId": "af2b45ae-48da-4a62-fe29-b20f7c2c6831"
      },
      "outputs": [],
      "source": [
        "# training\n",
        "num_epochs = 200\n",
        "for epoch in range(1, num_epochs):\n",
        "    \"\"\"Calculate loss and\n",
        "    validation MAE\"\"\"\n",
        "    train_loss = train(model, train_loader, optimizer, criterion, device)\n",
        "    val_loss = eval(model, validate_loader, criterion, device)\n",
        "    print(f\"Epoch: {epoch:02d}, Train Loss: {train_loss:.4f}, Val Loss: {val_loss:.4f}\")"
      ]
    },
    {
      "cell_type": "code",
      "execution_count": 10,
      "metadata": {
        "id": "ykihqvj1-ZOK"
      },
      "outputs": [],
      "source": [
        "# predict\n",
        "y_pred = []\n",
        "Idx = []\n",
        "\n",
        "model.eval()\n",
        "with torch.no_grad():\n",
        "    for data in test_loader:\n",
        "      output = model(data.to(device))\n",
        "      y_pred.extend(output.cpu().numpy())\n",
        "      Idx.extend(data.name)\n",
        "\n",
        "assert(len(Idx) == len(y_pred))\n",
        "df = pd.DataFrame({\"Idx\": Idx, \"labels\": y_pred})"
      ]
    },
    {
      "cell_type": "code",
      "execution_count": 11,
      "metadata": {
        "id": "Ib5a1tFn-ZOK"
      },
      "outputs": [],
      "source": [
        "# upload solution\n",
        "df.columns = ['Idx', 'labels']\n",
        "df.to_csv(\"template\", index=False)"
      ]
    }
  ],
  "metadata": {
    "accelerator": "GPU",
    "colab": {
      "gpuType": "A100",
      "machine_shape": "hm",
      "provenance": []
    },
    "interpreter": {
      "hash": "61b4062b24dfb1010f420dad5aa3bd73a4d2af47d0ec44eafec465a35a9d7239"
    },
    "kernelspec": {
      "display_name": "Python 3",
      "name": "python3"
    },
    "language_info": {
      "codemirror_mode": {
        "name": "ipython",
        "version": 3
      },
      "file_extension": ".py",
      "mimetype": "text/x-python",
      "name": "python",
      "nbconvert_exporter": "python",
      "pygments_lexer": "ipython3",
      "version": "3.11.8"
    }
  },
  "nbformat": 4,
  "nbformat_minor": 0
}
